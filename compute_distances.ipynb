def compute_distances(x_df, centroids):
    x_df = pd.DataFrame(x_df)
    x = x_df.to_numpy()
    d = [] 
    for i in range(len(x)) :
        temp =[]        
        for j in range(len(centroids)) :
            diff = np.subtract(x[i] , centroids[j]) 
            r = np.sqrt(np.sum(diff**2))
            temp.append(r)
        d.append(temp.index(min(temp))) 
    d = np.array(d)
    return d
